{
 "cells": [
  {
   "cell_type": "markdown",
   "id": "f317f546",
   "metadata": {},
   "source": [
    "NAME- SAKSHI\n",
    "\n",
    "PRN- 23070243039"
   ]
  },
  {
   "cell_type": "markdown",
   "id": "0ae6e3ba",
   "metadata": {},
   "source": [
    "# <div style=\"text-align: center; color: purple; font-size: 36px;\">WEATHER FORECASTING SYSTEM</div>\n",
    "\n"
   ]
  },
  {
   "cell_type": "markdown",
   "id": "bf967401",
   "metadata": {},
   "source": [
    "## INSTALLING LIBRARIES"
   ]
  },
  {
   "cell_type": "code",
   "execution_count": 1,
   "id": "e2483b8c",
   "metadata": {},
   "outputs": [
    {
     "name": "stdout",
     "output_type": "stream",
     "text": [
      "Requirement already satisfied: requests in c:\\users\\shree\\anaconda3\\lib\\site-packages (2.31.0)\n",
      "Requirement already satisfied: charset-normalizer<4,>=2 in c:\\users\\shree\\anaconda3\\lib\\site-packages (from requests) (2.0.4)\n",
      "Requirement already satisfied: idna<4,>=2.5 in c:\\users\\shree\\anaconda3\\lib\\site-packages (from requests) (3.4)\n",
      "Requirement already satisfied: urllib3<3,>=1.21.1 in c:\\users\\shree\\anaconda3\\lib\\site-packages (from requests) (1.26.16)\n",
      "Requirement already satisfied: certifi>=2017.4.17 in c:\\users\\shree\\anaconda3\\lib\\site-packages (from requests) (2024.2.2)\n",
      "Requirement already satisfied: tk in c:\\users\\shree\\anaconda3\\lib\\site-packages (0.1.0)\n"
     ]
    }
   ],
   "source": [
    "!pip install requests\n",
    "!pip install tk\n"
   ]
  },
  {
   "cell_type": "markdown",
   "id": "4202f536",
   "metadata": {},
   "source": [
    "## FETCHING WEATHER DATA"
   ]
  },
  {
   "cell_type": "code",
   "execution_count": 1,
   "id": "c30dcd4b",
   "metadata": {},
   "outputs": [],
   "source": [
    "import requests\n",
    "import json\n",
    "\n",
    "# OpenWeather API Key \n",
    "API_KEY = '04754d42a571403e51f00e9ae851b328'\n",
    "BASE_URL = \"http://api.openweathermap.org/data/2.5/weather\"\n",
    "\n",
    "# Function to get weather data from OpenWeather API\n",
    "def get_weather(city_name):\n",
    "    url = f\"{BASE_URL}?q={city_name}&appid={API_KEY}&units=metric\"\n",
    "    response = requests.get(url)\n",
    "    \n",
    "    if response.status_code == 200:\n",
    "        data = response.json()\n",
    "        temperature = data['main']['temp']\n",
    "        humidity = data['main']['humidity']\n",
    "        description = data['weather'][0]['description']\n",
    "        pressure = data['main']['pressure']\n",
    "        wind_speed = data['wind']['speed']\n",
    "        return temperature, humidity, description, pressure, wind_speed\n",
    "    else:\n",
    "        return None\n"
   ]
  },
  {
   "cell_type": "markdown",
   "id": "6f2a976f",
   "metadata": {},
   "source": [
    "## WEATHER RECOMMENDATION LOGIC"
   ]
  },
  {
   "cell_type": "code",
   "execution_count": 3,
   "id": "86e2dc53",
   "metadata": {},
   "outputs": [],
   "source": [
    "# Mapping of weather conditions to recommendations\n",
    "weather_recommendations = {\n",
    "    \"clear sky\": \"The weather is clear and sunny. It's a good day to be outside, wear sunscreen!\",\n",
    "    \"few clouds\": \"The weather is mostly clear with a few clouds. It's a nice day to go outdoors!\",\n",
    "    \"scattered clouds\": \"The sky is a little cloudy. It might rain later, so keep an umbrella handy!\",\n",
    "    \"broken clouds\": \"There are broken clouds in the sky. It might rain soon, so be prepared.\",\n",
    "    \"shower rain\": \"It looks like it's going to rain. Don't forget to carry an umbrella!\",\n",
    "    \"rain\": \"It's raining! Make sure to stay dry and carry an umbrella.\",\n",
    "    \"thunderstorm\": \"There is a thunderstorm. It's best to stay indoors and avoid going outside.\",\n",
    "    \"snow\": \"It's snowing! Wear warm clothes and stay safe.\",\n",
    "    \"mist\": \"The visibility is low due to mist. Drive carefully and avoid outdoor activities.\",\n",
    "}\n",
    "\n",
    "# Function to generate recommendations based on weather description\n",
    "def generate_recommendation(weather_condition, temperature, wind_speed, humidity):\n",
    "    recommendation = weather_recommendations.get(weather_condition.lower(), \"Weather is unpredictable today. Stay prepared for anything.\")\n",
    "    \n",
    "    # Additional recommendations based on temperature and wind speed\n",
    "    if temperature < 10:\n",
    "        recommendation += \"\\nIt's quite cold outside. Make sure to wear warm clothing.\"\n",
    "    elif temperature > 30:\n",
    "        recommendation += \"\\nIt's quite hot outside. Stay hydrated and wear light clothing.\"\n",
    "    \n",
    "    if wind_speed > 15:\n",
    "        recommendation += \"\\nThere are high winds today. Be careful when going outside and avoid outdoor activities.\"\n",
    "    \n",
    "    if humidity > 80:\n",
    "        recommendation += \"\\nThe humidity is quite high today. You might want to wear light and breathable clothing.\"\n",
    "    \n",
    "    return recommendation\n"
   ]
  },
  {
   "cell_type": "markdown",
   "id": "3a76b1c9",
   "metadata": {},
   "source": [
    "## FETCHING CITY NAMES FROM JSON FILES"
   ]
  },
  {
   "cell_type": "code",
   "execution_count": 4,
   "id": "79ade98b",
   "metadata": {},
   "outputs": [],
   "source": [
    "# Fetch city names from a JSON file \n",
    "def fetch_city_names():\n",
    "    city_names = []\n",
    "    try:\n",
    "        # Example: Fetch city data from a local file \n",
    "        with open(\"D:/SIG(MSc)/DSSA sem3/AI/current.city.list.json\", \"r\", encoding=\"utf-8\") as file:\n",
    "            city_data = json.load(file)\n",
    "            for city in city_data:\n",
    "                city_names.append(city['name'])\n",
    "    except Exception as e:\n",
    "        print(f\"Error loading city names: {e}\")\n",
    "    \n",
    "    return city_names\n"
   ]
  },
  {
   "cell_type": "markdown",
   "id": "5fe0ddda",
   "metadata": {},
   "source": [
    "## GUI SETUP"
   ]
  },
  {
   "cell_type": "code",
   "execution_count": 5,
   "id": "ee904cba",
   "metadata": {},
   "outputs": [],
   "source": [
    "import tkinter as tk\n",
    "from tkinter import messagebox\n",
    "from tkinter import ttk\n",
    "\n",
    "# Function to fetch weather and display it in the main window\n",
    "def fetch_weather():\n",
    "    city_name = city_listbox.get(city_listbox.curselection())  # Get the selected city name\n",
    "    \n",
    "    # Fetch the weather data\n",
    "    weather_data = get_weather(city_name)\n",
    "    \n",
    "    if weather_data:\n",
    "        temperature, humidity, description, pressure, wind_speed = weather_data\n",
    "        recommendation = generate_recommendation(description, temperature, wind_speed, humidity)\n",
    "        \n",
    "        # Display the weather and recommendation in the main window\n",
    "        result_text = (f\"City: {city_name}\\n\"\n",
    "                       f\"Temperature: {temperature} °C\\n\"\n",
    "                       f\"Humidity: {humidity}%\\n\"\n",
    "                       f\"Weather: {description}\\n\"\n",
    "                       f\"Pressure: {pressure} hPa\\n\"\n",
    "                       f\"Wind Speed: {wind_speed} m/s\")\n",
    "        \n",
    "        result_label.config(text=result_text)\n",
    "        \n",
    "        # Show the recommendation in a new window\n",
    "        show_recommendation_window(recommendation)\n",
    "    else:\n",
    "        messagebox.showerror(\"Error\", \"City not found or invalid city name.\")\n",
    "\n",
    "# Function to create a new window to display the recommendation\n",
    "def show_recommendation_window(recommendation):\n",
    "    recommendation_window = tk.Toplevel(root)\n",
    "    recommendation_window.title(\"Weather Recommendation\")\n",
    "    \n",
    "    recommendation_label = tk.Label(recommendation_window, text=recommendation, justify=\"left\", padx=10, pady=10)\n",
    "    recommendation_label.pack()\n",
    "\n",
    "# Create the GUI\n",
    "root = tk.Tk()\n",
    "root.title(\"Weather Fetching App\")\n",
    "\n",
    "# Create and place widgets\n",
    "label = tk.Label(root, text=\"Select City:\")\n",
    "label.pack(pady=10)\n",
    "\n",
    "# Fetch the city names from the JSON file\n",
    "cities = fetch_city_names()\n",
    "\n",
    "# Create a scrollable Listbox for city selection\n",
    "listbox_frame = tk.Frame(root)\n",
    "scrollbar = tk.Scrollbar(listbox_frame)\n",
    "scrollbar.pack(side=tk.RIGHT, fill=tk.Y)\n",
    "\n",
    "city_listbox = tk.Listbox(listbox_frame, selectmode=tk.SINGLE, height=10)\n",
    "for city in cities:\n",
    "    city_listbox.insert(tk.END, city)\n",
    "city_listbox.pack(side=tk.LEFT, fill=tk.BOTH)\n",
    "\n",
    "listbox_frame.pack(pady=10)\n",
    "\n",
    "fetch_button = tk.Button(root, text=\"Fetch Weather\", command=fetch_weather)\n",
    "fetch_button.pack(pady=10)\n",
    "\n",
    "result_label = tk.Label(root, text=\"\", justify=\"left\")\n",
    "result_label.pack(pady=10)\n",
    "\n",
    "# Run the Tkinter event loop\n",
    "root.mainloop()\n"
   ]
  },
  {
   "cell_type": "code",
   "execution_count": null,
   "id": "15bf9761",
   "metadata": {},
   "outputs": [],
   "source": []
  }
 ],
 "metadata": {
  "kernelspec": {
   "display_name": "Python 3 (ipykernel)",
   "language": "python",
   "name": "python3"
  },
  "language_info": {
   "codemirror_mode": {
    "name": "ipython",
    "version": 3
   },
   "file_extension": ".py",
   "mimetype": "text/x-python",
   "name": "python",
   "nbconvert_exporter": "python",
   "pygments_lexer": "ipython3",
   "version": "3.11.5"
  }
 },
 "nbformat": 4,
 "nbformat_minor": 5
}
